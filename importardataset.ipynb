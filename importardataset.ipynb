{
 "cells": [
  {
   "cell_type": "code",
   "execution_count": 3,
   "id": "f95c2ac6-c49b-4f19-b6f5-d2373193f240",
   "metadata": {},
   "outputs": [
    {
     "data": {
      "text/plain": [
       "<DeviceId.GPU0: 0>"
      ]
     },
     "execution_count": 3,
     "metadata": {},
     "output_type": "execute_result"
    }
   ],
   "source": [
    "#NOTE:  This must be the first call in order to work properly!\n",
    "from deoldify import device\n",
    "from deoldify.device_id import DeviceId\n",
    "#choices:  CPU, GPU0...GPU7\n",
    "device.set(device=DeviceId.GPU0)"
   ]
  },
  {
   "cell_type": "code",
   "execution_count": 4,
   "id": "a0c96583-f329-461a-a7fb-8448f04cce19",
   "metadata": {},
   "outputs": [],
   "source": [
    "import os\n",
    "import fastai\n",
    "from fastai import *\n",
    "from fastai.vision import *\n",
    "from fastai.callbacks.tensorboard import *\n",
    "from fastai.vision.gan import *\n",
    "from deoldify.generators import *\n",
    "from deoldify.critics import *\n",
    "from deoldify.dataset import *\n",
    "from deoldify.loss import *\n",
    "from deoldify.save import *\n",
    "from PIL import Image, ImageDraw, ImageFont\n",
    "from PIL import ImageFile"
   ]
  },
  {
   "cell_type": "markdown",
   "id": "294c103d-c661-4a65-9c96-498774636afc",
   "metadata": {
    "tags": []
   },
   "source": [
    "## BORRAR FOLDER DATASET"
   ]
  },
  {
   "cell_type": "code",
   "execution_count": 13,
   "id": "21d0ce5f-7e25-4135-9ee5-43d9953be194",
   "metadata": {},
   "outputs": [],
   "source": [
    "import shutil\n",
    "shutil.rmtree('DATASET')"
   ]
  },
  {
   "cell_type": "markdown",
   "id": "9523487b-46a1-447f-807b-b7d0cd46759e",
   "metadata": {
    "tags": []
   },
   "source": [
    "## BORRAR Imagenet test train val"
   ]
  },
  {
   "cell_type": "code",
   "execution_count": 14,
   "id": "ded853dd-2163-4aaf-a048-ae809e4223e7",
   "metadata": {},
   "outputs": [],
   "source": [
    "import shutil\n",
    "shutil.rmtree('data/imagenet/ILSVRC/Data/CLS-LOC/val')\n",
    "shutil.rmtree('data/imagenet/ILSVRC/Data/CLS-LOC/train')\n",
    "shutil.rmtree('data/imagenet/ILSVRC/Data/CLS-LOC/test')"
   ]
  },
  {
   "cell_type": "markdown",
   "id": "dfff4f03-336a-4358-9f6a-46461b9fcb11",
   "metadata": {
    "tags": []
   },
   "source": [
    "## CREAR FOLDER DATASET"
   ]
  },
  {
   "cell_type": "code",
   "execution_count": null,
   "id": "5726bbed-dd3b-4a1e-8fa8-f1a39d5a5c89",
   "metadata": {},
   "outputs": [],
   "source": [
    "#import os\n",
    "os.mkdir ('DATASET')"
   ]
  },
  {
   "cell_type": "markdown",
   "id": "d0b90f48-151a-4787-862b-623078fd7285",
   "metadata": {},
   "source": [
    "## CREAR imagenet\n"
   ]
  },
  {
   "cell_type": "code",
   "execution_count": 6,
   "id": "afd87232-3afb-4834-b5d5-8df37c851aab",
   "metadata": {},
   "outputs": [],
   "source": [
    "import shutil\n",
    "os.mkdir ('data/imagenet/ILSVRC/Data/CLS-LOC/val')\n",
    "os.mkdir ('data/imagenet/ILSVRC/Data/CLS-LOC/train')\n",
    "os.mkdir ('data/imagenet/ILSVRC/Data/CLS-LOC/test')\n",
    "\n",
    "os.mkdir ('data/imagenet/ILSVRC/Data/CLS-LOC/val/sub')\n",
    "os.mkdir ('data/imagenet/ILSVRC/Data/CLS-LOC/train/sub')\n",
    "os.mkdir ('data/imagenet/ILSVRC/Data/CLS-LOC/test/sub')"
   ]
  },
  {
   "cell_type": "markdown",
   "id": "668f625b-5c1a-43df-9d1a-80b0700df575",
   "metadata": {},
   "source": [
    "## RESTO PROCESO"
   ]
  },
  {
   "cell_type": "code",
   "execution_count": null,
   "id": "50b2509b-4408-4f23-9995-8a2919cd50f2",
   "metadata": {},
   "outputs": [],
   "source": [
    "os.environ['NUMEXPR_MAX_THREADS'] = '24'\n",
    "#os.environ['NUMEXPR_NUM_THREADS'] = '8'\n",
    "import numexpr as ne\n",
    "\n",
    "path = Path('data/imagenet/ILSVRC/Data/CLS-LOC')\n",
    "patho = Path('DATASET')\n",
    "path_hr = path\n",
    "path_lr = path/'bandw'\n",
    "\n",
    "import fiftyone as fo\n",
    "\n",
    "# Customize where zoo datasets are downloaded\n",
    "fo.config.dataset_zoo_dir = patho\n",
    "\n",
    "\n",
    "\n",
    "proj_id = 'StableModel'\n",
    "\n",
    "gen_name = proj_id + '_gen'\n",
    "pre_gen_name = gen_name + '_0'\n",
    "crit_name = proj_id + '_crit'\n",
    "\n",
    "name_gen = proj_id + '_image_gen'\n",
    "path_gen = path/name_gen\n",
    "\n",
    "TENSORBOARD_PATH = Path('data/tensorboard/' + proj_id)\n",
    "\n",
    "nf_factor = 2\n",
    "pct_start = 1e-8"
   ]
  },
  {
   "cell_type": "code",
   "execution_count": null,
   "id": "ba139f99-82eb-45d5-b0a8-a1e9be6f9e94",
   "metadata": {},
   "outputs": [],
   "source": [
    "import fiftyone as fo\n",
    "import fiftyone.zoo as foz\n",
    "dataset = foz.load_zoo_dataset(\n",
    "    \"open-images-v6\",\n",
    "    split=\"validation\",\n",
    "    label_types=[],\n",
    "    max_samples=5000,\n",
    "    seed=51,\n",
    "    shuffle=True,\n",
    ")"
   ]
  },
  {
   "cell_type": "code",
   "execution_count": null,
   "id": "f4c15645-5f03-4dd4-99c1-8f46b9bedbdc",
   "metadata": {},
   "outputs": [],
   "source": [
    "import fiftyone as fo\n",
    "import fiftyone.zoo as foz\n",
    "dataset = foz.load_zoo_dataset(\n",
    "    \"open-images-v6\",\n",
    "    split=\"test\",\n",
    "    label_types=[],\n",
    "    max_samples=500,\n",
    "    seed=51,\n",
    "    shuffle=True,\n",
    ")"
   ]
  },
  {
   "cell_type": "code",
   "execution_count": null,
   "id": "d1026884-3143-4295-85ac-e0c868f3eff2",
   "metadata": {},
   "outputs": [],
   "source": [
    "import fiftyone as fo\n",
    "import fiftyone.zoo as foz\n",
    "dataset = foz.load_zoo_dataset(\n",
    "    \"open-images-v6\",\n",
    "    split=\"train\",\n",
    "    label_types=[],\n",
    "    max_samples=50000,\n",
    "    seed=51,\n",
    "    shuffle=True,\n",
    ")"
   ]
  },
  {
   "cell_type": "code",
   "execution_count": 7,
   "id": "5239e865-86fa-4563-bb02-710ee89e474a",
   "metadata": {},
   "outputs": [
    {
     "ename": "FileNotFoundError",
     "evalue": "[Errno 2] No such file or directory: 'DATASET/open-images-v6/val/data'",
     "output_type": "error",
     "traceback": [
      "\u001b[0;31m---------------------------------------------------------------------------\u001b[0m",
      "\u001b[0;31mFileNotFoundError\u001b[0m                         Traceback (most recent call last)",
      "\u001b[0;32m/tmp/ipykernel_138893/668995876.py\u001b[0m in \u001b[0;36m<module>\u001b[0;34m\u001b[0m\n\u001b[1;32m     31\u001b[0m \u001b[0mfin\u001b[0m \u001b[0;34m=\u001b[0m \u001b[0;34mr'DATASET/open-images-v6/val/data'\u001b[0m\u001b[0;34m\u001b[0m\u001b[0;34m\u001b[0m\u001b[0m\n\u001b[1;32m     32\u001b[0m \u001b[0mfout\u001b[0m\u001b[0;34m=\u001b[0m \u001b[0;34mr'data/imagenet/ILSVRC/Data/CLS-LOC/val/sub'\u001b[0m\u001b[0;34m\u001b[0m\u001b[0;34m\u001b[0m\u001b[0m\n\u001b[0;32m---> 33\u001b[0;31m \u001b[0;32mfor\u001b[0m \u001b[0mfile\u001b[0m \u001b[0;32min\u001b[0m \u001b[0mos\u001b[0m\u001b[0;34m.\u001b[0m\u001b[0mlistdir\u001b[0m\u001b[0;34m(\u001b[0m\u001b[0mfin\u001b[0m\u001b[0;34m)\u001b[0m\u001b[0;34m:\u001b[0m\u001b[0;34m\u001b[0m\u001b[0;34m\u001b[0m\u001b[0m\n\u001b[0m\u001b[1;32m     34\u001b[0m     \u001b[0mf_img\u001b[0m \u001b[0;34m=\u001b[0m \u001b[0mfin\u001b[0m\u001b[0;34m+\u001b[0m\u001b[0;34m\"/\"\u001b[0m\u001b[0;34m+\u001b[0m\u001b[0mfile\u001b[0m\u001b[0;34m\u001b[0m\u001b[0;34m\u001b[0m\u001b[0m\n\u001b[1;32m     35\u001b[0m     \u001b[0mfo_img\u001b[0m \u001b[0;34m=\u001b[0m \u001b[0mfout\u001b[0m\u001b[0;34m+\u001b[0m\u001b[0;34m\"/\"\u001b[0m\u001b[0;34m+\u001b[0m\u001b[0mfile\u001b[0m\u001b[0;34m\u001b[0m\u001b[0;34m\u001b[0m\u001b[0m\n",
      "\u001b[0;31mFileNotFoundError\u001b[0m: [Errno 2] No such file or directory: 'DATASET/open-images-v6/val/data'"
     ]
    }
   ],
   "source": [
    "import PIL\n",
    "import os\n",
    "import os.path\n",
    "from PIL import Image\n",
    "#patho = Path('data/imagenet/ILSVRC/Data/CLS-LOC')\n",
    "fin = r'DATASET/open-images-v6/test/data'\n",
    "fout= r'data/imagenet/ILSVRC/Data/CLS-LOC/test/sub'\n",
    "for file in os.listdir(fin):\n",
    "    f_img = fin+\"/\"+file\n",
    "    fo_img = fout+\"/\"+file\n",
    "    try:\n",
    "        img = Image.open(f_img)\n",
    "        img = img.resize((256,256))\n",
    "        img.save(fo_img)\n",
    "    except:\n",
    "        print(f_img)\n",
    " \n",
    "fin = r'DATASET/open-images-v6/train/data'\n",
    "fout= r'data/imagenet/ILSVRC/Data/CLS-LOC/train/sub'\n",
    "for file in os.listdir(fin):\n",
    "    f_img = fin+\"/\"+file\n",
    "    fo_img = fout+\"/\"+file\n",
    "    try:\n",
    "        img = Image.open(f_img)\n",
    "        img = img.resize((256,256))\n",
    "        img.save(fo_img)\n",
    "    except:\n",
    "        print(f_img)    \n",
    "    \n",
    "    \n",
    "fin = r'DATASET/open-images-v6/validation/data'\n",
    "fout= r'data/imagenet/ILSVRC/Data/CLS-LOC/val/sub'\n",
    "for file in os.listdir(fin):\n",
    "    f_img = fin+\"/\"+file\n",
    "    fo_img = fout+\"/\"+file\n",
    "    try:\n",
    "        img = Image.open(f_img)\n",
    "        img = img.resize((256,256))\n",
    "        img.save(fo_img)\n",
    "    except:\n",
    "        print(f_img)       \n",
    "    \n",
    "    \n",
    "    "
   ]
  }
 ],
 "metadata": {
  "kernelspec": {
   "display_name": "Python 3 (ipykernel)",
   "language": "python",
   "name": "python3"
  },
  "language_info": {
   "codemirror_mode": {
    "name": "ipython",
    "version": 3
   },
   "file_extension": ".py",
   "mimetype": "text/x-python",
   "name": "python",
   "nbconvert_exporter": "python",
   "pygments_lexer": "ipython3",
   "version": "3.7.12"
  }
 },
 "nbformat": 4,
 "nbformat_minor": 5
}
